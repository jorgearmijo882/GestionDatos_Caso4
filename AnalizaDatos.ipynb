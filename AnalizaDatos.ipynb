import pandas as pd
import matplotlib.pyplot as plt
import re

# Cargar el archivo CSV original
df = pd.read_csv('particiones.csv', delimiter=';')

# Definir un patrón de expresión regular para filtrar las coincidencias deseadas
patron = r'^(sriapp|sriinternet|sriintegra|srirh|sricel|sriportal)'

# Aplicar el filtro utilizando expresiones regulares
df_filtrado = df[df['Nombre'].str.match(patron)]

# Guardar el DataFrame filtrado en un nuevo archivo CSV
df_filtrado.to_csv('particiones_filtradas.csv', sep=';', index=False)

# Crear gráficos estadísticos
plt.figure(figsize=(12, 6))

# Gráfico de barras para Capacidad vs Consumido
plt.subplot(1, 2, 1)
plt.bar(df_filtrado['Nombre'], df_filtrado['Capacidad'], label='Capacidad')
plt.bar(df_filtrado['Nombre'], df_filtrado['Consumido'], label='Consumido')
plt.xlabel('Partición')
plt.ylabel('Cantidad')
plt.title('Capacidad vs Consumido')
plt.legend()

# Gráfico de barras para contar la frecuencia de cada partición
plt.bar(df_filtrado['Nombre'].value_counts().index, df_filtrado['Nombre'].value_counts().values)
plt.xlabel('Partición')
plt.ylabel('Frecuencia')
plt.title('Frecuencia de Particiones')
plt.xticks(rotation=45, ha='right')
plt.tight_layout()
plt.show()

# Gráfico de porcentaje de Capacidad Libre
plt.subplot(1, 2, 2)
plt.pie(df_filtrado['PorcentajeLibre'], labels=df_filtrado['Nombre'], autopct='%1.1f%%')
plt.title('Porcentaje Libre')

# Gráfico de pastel para mostrar la frecuencia de cada partición
plt.pie(df_filtrado['Nombre'].value_counts(), labels=df_filtrado['Nombre'].value_counts().index, autopct='%1.1f%%')
plt.axis('equal')  # Hace que el gráfico de pastel se vea como un círculo
plt.title('Frecuencia de Particiones')
plt.tight_layout()
plt.show()

# Guardar los gráficos en un archivo de imagen
plt.tight_layout()
plt.savefig('graficos.png')

# Mostrar los gráficos
plt.show()
